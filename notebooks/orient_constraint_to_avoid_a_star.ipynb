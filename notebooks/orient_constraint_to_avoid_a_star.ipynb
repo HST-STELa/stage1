{
 "cells": [
  {
   "cell_type": "code",
   "id": "initial_id",
   "metadata": {
    "collapsed": true,
    "ExecuteTime": {
     "end_time": "2025-04-02T21:14:51.966154Z",
     "start_time": "2025-04-02T21:14:51.962209Z"
    }
   },
   "source": [
    "from astropy import units as u\n",
    "from astropy import coordinates as coord\n",
    "import numpy as np"
   ],
   "outputs": [],
   "execution_count": 236
  },
  {
   "metadata": {},
   "cell_type": "markdown",
   "source": [
    "# Instructions\n",
    "Do a cmd-F search for # UPDATE tags and enter values there. Then run the notebook. Results are printed below cells."
   ],
   "id": "711c57c23e6e4f7"
  },
  {
   "metadata": {},
   "cell_type": "markdown",
   "source": [
    "# Concept\n",
    "After initially making this way too complicated, this is how I ultimately approached this problem.\n",
    "\n",
    "Imagine the line between the target and contaminant as a stick that can be moved and rotated. Think of the aperture as a rectangular box. You are free to move the stick and rotate this stick in order to fit it in the box. This is effectively the same as moving and rotating the aperture, but I find it easier to visualize.\n",
    "\n",
    "I find it helpful to consider trying to fit sticks of decreasing length. First, if the stick is longer than the diagonal, it cannot fit in the box at any angle. If it is shorter than this, it can always fit along the diagonal, so this is a good place to start. Now, if the stick is a little longer than the long dimension of the box, I could begin twisting it so that it is more aligned with the box's length and eventually the stick will contact the ends of the box. At this point I could slide the stick left and right so that one end is in a corner, but that wouldn't allow me to twist the stick any further. The same is true if I were to twist the stick, starting from the diagonal, in the other direction. So I might as well keep it centered and use that to determine my angles. \n",
    "\n",
    "Since I cannot increase the angles in which the stick fits by moving it, I can just consider keeping it centered. In this case, twisting the stick would cause the ends to draw out a circle with a radius equal to half the length of the stick and the contacts would be where this circle intersects the edges of the box.\n",
    "\n",
    "(I just realized I could generalize this to any shape by starting with the stick aligned with the greatest distance between to vertices... kinda satisfying, but I won't go down that path.)\n",
    "\n",
    "I could keep shortening the stick, but the result will be the same -- I'can get it any more tilted by sliding it around, even if it is shorter than the long dimension so that it only contacts the long sides of the box. And of course if I kept shortening it, eventually it will fit at any angle.\n",
    "\n",
    "Now what if one end of the stick is not allowed to move beyond a certain distance from center? This is equivalent to imposing a certain accuracy on target centering in the aperture. In this case, it is still best to start with the stick aligned to a diagonal, with the stick as close to centered as possible so that the \"target end\" is at the maximum radius away from the center as allowable. Then I will fit the most angles by rotating the stick about the center of the box. Moving it any further off center would either violate the accuracy criterion in one direction or just cause the stick to contact a side earlier in the other direction. In this case, the problem is reduced to asking where a circle with a radius equal l/2 + (l/2 - r) = l - r, where l is the length of the stick and r is the accuracy criterion, contacts the sides of the box. QED."
   ],
   "id": "5e2dd409dab8408c"
  },
  {
   "metadata": {
    "ExecuteTime": {
     "end_time": "2025-04-02T21:14:52.007338Z",
     "start_time": "2025-04-02T21:14:52.003732Z"
    }
   },
   "cell_type": "code",
   "source": [
    "def stick_fit_intervals(stick_length, box_width, box_length):\n",
    "    # returns angles relative to the long dimension of the box that will allow the stick to fit inside\n",
    "    if box_width > box_length:\n",
    "        raise ValueError(\"Width must be less than length.\")\n",
    "    s, w, l = stick_length, box_width, box_length\n",
    "    diag = np.sqrt(w**2 + l**2)\n",
    "    # extreme cases\n",
    "    if s >= diag:\n",
    "        return np.empty((0,2)) * u.deg\n",
    "    elif s <= w:\n",
    "        return [[0, 360]] * u.deg\n",
    "    \n",
    "    # intermediate cases\n",
    "    if s > l:\n",
    "        ratio = l/s\n",
    "        if hasattr(ratio, 'unit'):\n",
    "            ratio = ratio.to_value('')\n",
    "        min_tilt = np.arccos(ratio) * u.rad\n",
    "    else: # stick fits longways\n",
    "        min_tilt = 0 * u.deg\n",
    "    if s > w:\n",
    "        ratio = w/s\n",
    "        if hasattr(ratio, 'unit'):\n",
    "            ratio = ratio.to_value('')\n",
    "        max_tilt = 90 * u.deg - np.arccos(ratio) * u.rad\n",
    "    else:\n",
    "        max_tilt = 90 * u.deg\n",
    "        \n",
    "    # there will be four intervals of rotation where the stick will fit for the intermediate cases\n",
    "    i1 = u.Quantity((min_tilt, max_tilt))\n",
    "    i2 = 180 * u.deg - i1[::-1]\n",
    "    i3 = i1 - 180 * u.deg\n",
    "    i4 = -i1[::-1]\n",
    "    intervals = np.vstack((i1, i2, i3, i4))\n",
    "    return intervals.to('deg')"
   ],
   "id": "ce79b44905db682a",
   "outputs": [],
   "execution_count": 237
  },
  {
   "metadata": {},
   "cell_type": "markdown",
   "source": "Optional tests, used to validate correct output",
   "id": "ed21993876a15479"
  },
  {
   "metadata": {
    "ExecuteTime": {
     "end_time": "2025-04-02T21:14:52.017212Z",
     "start_time": "2025-04-02T21:14:52.012788Z"
    }
   },
   "cell_type": "code",
   "source": [
    "print(\"should give empty set: \")\n",
    "print(stick_fit_intervals(3, 1, 2)) \n",
    "print(\"should give 0, 360\")\n",
    "print(stick_fit_intervals(0.5, 1, 2))\n",
    "print(\"should give a narrow range near 37 deg (3,4,5 triangle) and then other quadrants\")\n",
    "print(stick_fit_intervals(4.9, 3, 4)) \n",
    "print(\"should give 0 to a somewhat more than 37 deg + other quadrants\")\n",
    "print(stick_fit_intervals(3.9, 3, 4)) \n",
    "print(\"should give 0 to near 90 deg + other quadrants\")\n",
    "print(stick_fit_intervals(3.001, 3, 4)) "
   ],
   "id": "68237dec16096ed4",
   "outputs": [
    {
     "name": "stdout",
     "output_type": "stream",
     "text": [
      "should give empty set: \n",
      "[] deg\n",
      "should give 0, 360\n",
      "[[  0. 360.]] deg\n",
      "should give a narrow range near 37 deg (3,4,5 triangle) and then other quadrants\n",
      "[[  35.28126183   37.75200131]\n",
      " [ 142.24799869  144.71873817]\n",
      " [-144.71873817 -142.24799869]\n",
      " [ -37.75200131  -35.28126183]] deg\n",
      "should give 0 to a somewhat more than 37 deg + other quadrants\n",
      "[[   0.           50.28486277]\n",
      " [ 129.71513723  180.        ]\n",
      " [-180.         -129.71513723]\n",
      " [ -50.28486277   -0.        ]] deg\n",
      "should give 0 to near 90 deg + other quadrants\n",
      "[[   0.           88.52083476]\n",
      " [  91.47916524  180.        ]\n",
      " [-180.          -91.47916524]\n",
      " [ -88.52083476   -0.        ]] deg\n"
     ]
    }
   ],
   "execution_count": 238
  },
  {
   "metadata": {
    "ExecuteTime": {
     "end_time": "2025-04-02T21:14:52.020341Z",
     "start_time": "2025-04-02T21:14:52.018244Z"
    }
   },
   "cell_type": "code",
   "source": [
    "def angles_fitting_two_stars(star_separation, aperture_width, aperture_height, centering_accuracy):\n",
    "    \"\"\"Angles relative to the axis defined by the two stars by which \n",
    "    the long axis (height) of the aperture must be rotated counterclockwise \n",
    "    in order to fit both stars.\"\"\"\n",
    "    if centering_accuracy > star_separation/2:\n",
    "        l = star_separation\n",
    "    else:\n",
    "        # this allows the function to use the same stick fitting result, see concept discussion\n",
    "        # it reduces to the stick length being the star separation if the target cannot be \n",
    "        # centered with an accuracy better than separation/2\n",
    "        l = 2*(star_separation - centering_accuracy) \n",
    "    return stick_fit_intervals(l, aperture_width, aperture_height)"
   ],
   "id": "2eae65dc8e9e52a6",
   "outputs": [],
   "execution_count": 239
  },
  {
   "metadata": {},
   "cell_type": "markdown",
   "source": "Optional tests, used to validate correct output",
   "id": "ba4f8c270ce42e6f"
  },
  {
   "metadata": {
    "ExecuteTime": {
     "end_time": "2025-04-02T21:14:52.052976Z",
     "start_time": "2025-04-02T21:14:52.049772Z"
    }
   },
   "cell_type": "code",
   "source": [
    "print(\"should give 0 to a somewhat more than 37 deg, then subsequent ranges should narrow until they disappear\")\n",
    "print(\"note that only the first range is being printed\")\n",
    "print(angles_fitting_two_stars(3.9, 3, 4, 5)[0])\n",
    "print(angles_fitting_two_stars(3.9, 3, 4, 3.9/2*0.9)[0])\n",
    "print(angles_fitting_two_stars(3.9, 3, 4, 3.9/2*0.72)[0])\n",
    "print(angles_fitting_two_stars(3.9, 3, 4, 3.9/2*0.71))\n",
    "print(angles_fitting_two_stars(3.9, 3, 4, 0))"
   ],
   "id": "5bed76d70e107902",
   "outputs": [
    {
     "name": "stdout",
     "output_type": "stream",
     "text": [
      "should give 0 to a somewhat more than 37 deg, then subsequent ranges should narrow until they disappear\n",
      "note that only the first range is being printed\n",
      "[ 0.         50.28486277] deg\n",
      "[21.18777598 44.3709259 ] deg\n",
      "[36.74729578 36.93879385] deg\n",
      "[] deg\n",
      "[] deg\n"
     ]
    }
   ],
   "execution_count": 240
  },
  {
   "metadata": {},
   "cell_type": "markdown",
   "source": "### Rotations and a utility",
   "id": "1828a1fc65fe3cfd"
  },
  {
   "metadata": {
    "ExecuteTime": {
     "end_time": "2025-04-02T21:14:52.082748Z",
     "start_time": "2025-04-02T21:14:52.079993Z"
    }
   },
   "cell_type": "code",
   "source": [
    "def account_for_contaminant_PA(pa, intervals):\n",
    "    new_intervals = intervals + pa\n",
    "    return new_intervals\n",
    "\n",
    "def ORIENT_intervals(beta_y, intervals):\n",
    "    orients = intervals - beta_y\n",
    "    return orients.wrap_at(360*u.deg)\n",
    "\n",
    "def merge_intervals(intervals):\n",
    "    sorted_intervals = sorted(intervals, key=lambda x: x[0])\n",
    "    merged = []\n",
    "\n",
    "    for interval in sorted_intervals:\n",
    "        if not merged:\n",
    "            merged.append(interval)\n",
    "        if (merged[-1][1] > interval[0]) or np.isclose(merged[-1][1], interval[0]):\n",
    "            merged[-1][1] = max(merged[-1][1], interval[1])\n",
    "        else:\n",
    "            merged.append(interval)\n",
    "\n",
    "    return merged"
   ],
   "id": "6a5d0f23d2a0a585",
   "outputs": [],
   "execution_count": 241
  },
  {
   "metadata": {},
   "cell_type": "markdown",
   "source": "# Boilerplate ",
   "id": "73a81e373f33a5bb"
  },
  {
   "metadata": {
    "ExecuteTime": {
     "end_time": "2025-04-02T21:14:52.086313Z",
     "start_time": "2025-04-02T21:14:52.083960Z"
    }
   },
   "cell_type": "code",
   "source": [
    "def do_the_works(sep, pa, width, height, acc, beta_y):\n",
    "    intervals = angles_fitting_two_stars(sep, width, height, acc)\n",
    "    if len(intervals) == 0:\n",
    "        print(\"Contaminant is far enough to be out of aperture for any ORIENT.\")\n",
    "    elif intervals[0,1] - intervals[0,0] == 360*u.deg:\n",
    "        print(\"Contaminant is close enough to be in aperture for any ORIENT.\")\n",
    "    else:\n",
    "        print(\"Contimanant could end up in the aperture for the following ORIENTS:\")\n",
    "        intervals = account_for_contaminant_PA(pa, intervals)\n",
    "        intervals = ORIENT_intervals(beta_y, intervals)\n",
    "        intervals = merge_intervals(intervals)\n",
    "        intervals = u.Quantity(intervals)\n",
    "        intervals = intervals.to_value('deg')\n",
    "        print(intervals)\n",
    "        print(\"Enter these into the APT to ensure contaminating source is avoided.\")\n",
    "        assert len(intervals) == 2\n",
    "        # get the complementary ranges which will keep the target out\n",
    "        buffer = 0.1\n",
    "        intervals = [[intervals[1,1] + buffer, intervals[0,0] - buffer],\n",
    "                     [intervals[0,1] + buffer, intervals[1,0] - buffer]]\n",
    "        print(intervals)\n",
    "        "
   ],
   "id": "d950b3695c7d0029",
   "outputs": [],
   "execution_count": 242
  },
  {
   "metadata": {},
   "cell_type": "markdown",
   "source": "# Target and contaminant coordinates",
   "id": "7fcffc31bb70ecf5"
  },
  {
   "metadata": {
    "ExecuteTime": {
     "end_time": "2025-04-02T21:14:52.098548Z",
     "start_time": "2025-04-02T21:14:52.093204Z"
    }
   },
   "cell_type": "code",
   "source": [
    "# can usually use Gaia DR3 coordinates. might want to think about proper motions if they are very large\n",
    "target = coord.SkyCoord(\"12.546956711673715 -83.74376291513069\", # UPDATE\n",
    "                        unit=(u.deg, u.deg)) # can also use u.hourangle as needed # UPDATE\n",
    "contam = coord.SkyCoord(\"12.541325853053971 -83.74364554629558\", # UPDATE\n",
    "                        unit=(u.deg, u.deg)) # UPDATE"
   ],
   "id": "f1fd0ef847c5162b",
   "outputs": [],
   "execution_count": 243
  },
  {
   "metadata": {},
   "cell_type": "markdown",
   "source": "### calculate separation and position angle ",
   "id": "3021332ab1a5e779"
  },
  {
   "metadata": {
    "ExecuteTime": {
     "end_time": "2025-04-02T21:14:52.105196Z",
     "start_time": "2025-04-02T21:14:52.102243Z"
    }
   },
   "cell_type": "code",
   "source": [
    "sep = target.separation(contam)\n",
    "\n",
    "# position angle (ccw from celestial north)\n",
    "# remember east points left on the sky :) \n",
    "pa = coord.position_angle(target.ra, target.dec, contam.ra, contam.dec)\n",
    "\n",
    "print(f\"Contaminant is {sep.to('arcsec'):.2g} away at a position angle of {pa.to('deg'):.1f}.\")"
   ],
   "id": "e5048bd4c0f1384",
   "outputs": [
    {
     "name": "stdout",
     "output_type": "stream",
     "text": [
      "Contaminant is 2.2 arcsec away at a position angle of 280.8 deg.\n"
     ]
    }
   ],
   "execution_count": 244
  },
  {
   "metadata": {},
   "cell_type": "markdown",
   "source": [
    "### Pole Check\n",
    "If either target is within striking distance of a celestial pole, angles will get weird and this notebook cannot handle them. If this cell has raised an error, then this is the case."
   ],
   "id": "8e55e101459eaf7a"
  },
  {
   "metadata": {
    "ExecuteTime": {
     "end_time": "2025-04-02T21:14:52.122018Z",
     "start_time": "2025-04-02T21:14:52.119858Z"
    }
   },
   "cell_type": "code",
   "source": [
    "for x in (target, contam):\n",
    "    if 90*u.deg - abs(x.dec) < 10*u.arcmin: # chosen to be about 10x the 52\" slit height\n",
    "        raise NotImplementedError(\"Target is too close to the pole!!!\")"
   ],
   "id": "f505565d79731f12",
   "outputs": [],
   "execution_count": 245
  },
  {
   "metadata": {},
   "cell_type": "markdown",
   "source": [
    "# Beta_y\n",
    "This parameter indicating the orientation of the detector relative to Hubbles axis system seems to be either 135.0000 or 135.0559 deg for all ACQ and G140M apertures of interest. However, if this notebook is extended to new apertures, this will need to be updated.\n",
    "\n",
    "A catalog of values is avaiable at https://www.stsci.edu/hst/instrumentation/focus-and-pointing/fov-geometry"
   ],
   "id": "5c2abdcbd533b375"
  },
  {
   "metadata": {
    "ExecuteTime": {
     "end_time": "2025-04-02T21:14:52.129775Z",
     "start_time": "2025-04-02T21:14:52.128276Z"
    }
   },
   "cell_type": "code",
   "source": "beta_y = 135.000*u.deg # UDPATE?",
   "id": "faa7f8bd0eab0856",
   "outputs": [],
   "execution_count": 246
  },
  {
   "metadata": {},
   "cell_type": "markdown",
   "source": [
    "# ACQ\n",
    "For an orientation constraint to be helpful for an ACQ, the contaminating source must be between 4.5 and 7.07\" from the target, otherwise it can be in the aperture for any orientation or no orientations. "
   ],
   "id": "b2ae6314c4715ef1"
  },
  {
   "metadata": {
    "ExecuteTime": {
     "end_time": "2025-04-02T21:14:52.132694Z",
     "start_time": "2025-04-02T21:14:52.130563Z"
    }
   },
   "cell_type": "code",
   "source": [
    "width = 5*u.arcsec\n",
    "height = 5*u.arcsec\n",
    "centering_accuracy = 2*u.arcsec\n",
    "do_the_works(sep, pa, width, height, centering_accuracy, beta_y)"
   ],
   "id": "4ce07bd48bb963d2",
   "outputs": [
    {
     "name": "stdout",
     "output_type": "stream",
     "text": [
      "Contaminant is close enough to be in aperture for any ORIENT.\n"
     ]
    }
   ],
   "execution_count": 247
  },
  {
   "metadata": {},
   "cell_type": "markdown",
   "source": "# G140M",
   "id": "ae87296e5d140a60"
  },
  {
   "metadata": {
    "ExecuteTime": {
     "end_time": "2025-04-02T21:14:52.138692Z",
     "start_time": "2025-04-02T21:14:52.136082Z"
    }
   },
   "cell_type": "code",
   "source": [
    "width = 0.2*u.arcsec # UPDATE\n",
    "height = 52*u.arcsec \n",
    "centering_accuracy = 52*u.arcsec # this effectively allows for any error in target position\n",
    "do_the_works(sep, pa, width, height, centering_accuracy, beta_y)"
   ],
   "id": "fc2114eeac75108",
   "outputs": [
    {
     "name": "stdout",
     "output_type": "stream",
     "text": [
      "Contimanant could end up in the aperture for the following ORIENTS:\n",
      "[[140.72367102 150.92709563]\n",
      " [320.72367102 330.92709563]] deg\n",
      "!!! these ARE NOT what you should enter into the APT.\n",
      "Instead you should enter the ranges between these intervals for the orient constraints. \n",
      "Narrow the allowable ranges by 0.1 deg as a buffer against beta_y variations.\n"
     ]
    }
   ],
   "execution_count": 248
  }
 ],
 "metadata": {
  "kernelspec": {
   "display_name": "Python 3",
   "language": "python",
   "name": "python3"
  },
  "language_info": {
   "codemirror_mode": {
    "name": "ipython",
    "version": 2
   },
   "file_extension": ".py",
   "mimetype": "text/x-python",
   "name": "python",
   "nbconvert_exporter": "python",
   "pygments_lexer": "ipython2",
   "version": "2.7.6"
  }
 },
 "nbformat": 4,
 "nbformat_minor": 5
}
